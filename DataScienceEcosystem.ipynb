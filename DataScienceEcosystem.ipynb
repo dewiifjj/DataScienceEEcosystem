{
 "cells": [
  {
   "cell_type": "markdown",
   "id": "a1d6c1df",
   "metadata": {},
   "source": [
    "# Data Science Tools and Ecosystem"
   ]
  },
  {
   "cell_type": "markdown",
   "id": "e7f6cce1",
   "metadata": {},
   "source": [
    "In this notebook, Data Science Tools and Ecosystem are summarized."
   ]
  },
  {
   "cell_type": "markdown",
   "id": "3037ff73",
   "metadata": {},
   "source": [
    "**Objectives:** \n",
    "- List popular languages for Data Science\n",
    "- List commonly used libraries for Data Science\n",
    "- List Data Science Tools\n",
    "- Few examples of evaluating arithmetic expressions in Python"
   ]
  },
  {
   "cell_type": "markdown",
   "id": "6db6be9b",
   "metadata": {},
   "source": [
    "Some of the popular languages that Data Scientists use are:\n",
    "1. Python\n",
    "2. R\n",
    "3. SQL"
   ]
  },
  {
   "cell_type": "markdown",
   "id": "0dafefad",
   "metadata": {},
   "source": [
    "Some of the commonly used libraries used by Data Scientists include:\n",
    "1. NumPy\n",
    "2. Pandas\n",
    "3. MatPlotLib"
   ]
  },
  {
   "cell_type": "markdown",
   "id": "00c7dfb3",
   "metadata": {},
   "source": [
    "| Data Science Tools |\n",
    "|-------------|\n",
    "| Jupyter Notebook      |\n",
    "| RStudio      |\n",
    "| Visual Studio Code      |\n"
   ]
  },
  {
   "cell_type": "markdown",
   "id": "f50c77e1",
   "metadata": {},
   "source": [
    "### Below are a few examples of evaluating arithmetic expressions in Python\n"
   ]
  },
  {
   "cell_type": "code",
   "execution_count": 2,
   "id": "1512ae64",
   "metadata": {},
   "outputs": [
    {
     "name": "stdout",
     "output_type": "stream",
     "text": [
      "17\n"
     ]
    }
   ],
   "source": [
    "# This a simple arithmetic expression to mutiply then add integers.\n",
    "result = (3 * 4) + 5\n",
    "print(result)"
   ]
  },
  {
   "cell_type": "code",
   "execution_count": 6,
   "id": "a324ba79",
   "metadata": {},
   "outputs": [
    {
     "name": "stdout",
     "output_type": "stream",
     "text": [
      "3.3333333333333335\n"
     ]
    }
   ],
   "source": [
    "#  This will convert 200 minutes to hours by diving by 60\n",
    "minutes = 200\n",
    "hours = minutes/60\n",
    "print(hours)"
   ]
  },
  {
   "cell_type": "markdown",
   "id": "872224d5",
   "metadata": {},
   "source": [
    "## Author: Jiwi"
   ]
  },
  {
   "cell_type": "code",
   "execution_count": null,
   "id": "bd02ffc5",
   "metadata": {},
   "outputs": [],
   "source": []
  }
 ],
 "metadata": {
  "kernelspec": {
   "display_name": "Python 3 (ipykernel)",
   "language": "python",
   "name": "python3"
  },
  "language_info": {
   "codemirror_mode": {
    "name": "ipython",
    "version": 3
   },
   "file_extension": ".py",
   "mimetype": "text/x-python",
   "name": "python",
   "nbconvert_exporter": "python",
   "pygments_lexer": "ipython3",
   "version": "3.10.9"
  }
 },
 "nbformat": 4,
 "nbformat_minor": 5
}
